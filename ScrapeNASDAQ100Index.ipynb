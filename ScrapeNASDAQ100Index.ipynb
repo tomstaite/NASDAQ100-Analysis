{
 "cells": [
  {
   "cell_type": "code",
   "execution_count": 1,
   "metadata": {},
   "outputs": [],
   "source": [
    "# Import packages req. to scrape HTML webpages, and Pandas\n",
    "import requests\n",
    "import lxml.html as lh\n",
    "import pandas as pd"
   ]
  },
  {
   "cell_type": "code",
   "execution_count": null,
   "metadata": {},
   "outputs": [],
   "source": [
    "from bs4 import BeautifulSoup \n",
    "\n",
    "# Get the data from Markets Insider\n",
    "def retrievePageContents(url, page):\n",
    "    newRequest = requests.get(url)\n",
    "    soup = \"soup\"\n",
    "    globals()[soup + str(page)] = BeautifulSoup(newRequest.content, 'html5lib')\n",
    "    \n",
    "retrievePageContents(\"https://markets.businessinsider.com/index/nasdaq_100?p=1\", 1)\n",
    "retrievePageContents(\"https://markets.businessinsider.com/index/nasdaq_100?p=2\", 2)"
   ]
  },
  {
   "cell_type": "code",
   "execution_count": 53,
   "metadata": {},
   "outputs": [
    {
     "name": "stdout",
     "output_type": "stream",
     "text": [
      "['Activision Blizzard', 'Adobe', 'Alexion Pharmaceuticals', 'Align Technology', 'Alphabet A (ex Google', 'Alphabet C (ex Google', 'Amazon', 'AMD (Advanced Micro Devices) ', 'Amgen', 'Analog Devices', 'Apple', 'Applied Materials', 'ASML', 'Autodesk', 'Automatic Data Processing', 'Baiducom', 'Biogen', 'Biomarin Pharmaceutical', 'Broadcom', 'Cadence Design Systems', 'Cerner', 'Charte a', 'Check Point Software', 'Cintas', 'Cisco', 'Citrix Systems', 'Cognizant', 'Comcast', 'Costco Wholesale', 'CSX', 'Dollar Tree', 'eBay', 'Electronic Arts', 'Expedia', 'Facebook', 'Fastenal', 'Fiserv', 'Fox', 'Gilead Sciences', 'IDEXX Laboratories', 'Illumina', 'Incyte', 'Intel', 'Intuit', 'Intuitive Surgical', 'JDcom', 'KLA-Tencor', 'Lam Research', 'Liberty Globa a', 'Liberty Global', 'Marriott', 'Maxim Integrated Products', 'MercadoLibre', 'Microchip Technology', 'Micron Technology', 'Microsoft', 'Mondelez', 'Monster Beverage', 'Netease', 'Netflix', 'NVIDIA', 'O Reilly Automotive', 'Paccar', 'Paychex', 'PayPal', 'QUALCOMM', 'Regeneron Pharmaceuticals', 'Ross Stores', 'Sirius XM', 'Skyworks Solutions', 'Starbucks', 'Synopsys', 'Take Two', 'Tesla', 'Texas Instruments', 'The Kraft Heinz Company', 'T-Mobile (ex T-Mobile US', 'Ulta Beauty', 'Verisk Analytic a', 'Vertex Pharmaceuticals', 'Walgreens Boots Alliance', 'Western Digital', 'Workda a']\n"
     ]
    }
   ],
   "source": [
    "# Variables to hold company names for Page 1 and Page 2\n",
    "s1pageNames = []\n",
    "s2pageNames = []\n",
    "\n",
    "pageNames = []\n",
    "\n",
    "\n",
    "# Take just the company names and add them to a list\n",
    "def scrapeNames(soup, page):    \n",
    "    for divTable in soup.find_all('div', {'id': 'index-list-container'}):\n",
    "        for tr in soup.find_all('tr', {'class': 'row-hover'}):\n",
    "            for td in tr.find_all('td', {'class': ''}):\n",
    "                for a in tr.find_all('a', {'class': ''}):\n",
    "                    if page == 1:\n",
    "                        s1pageNames.append(a.text)\n",
    "                    else:\n",
    "                        s2pageNames.append(a.text)\n",
    "                \n",
    "scrapeNames(soup1, 1)\n",
    "scrapeNames(soup2, 2)     \n",
    "\n",
    "# Remove unwanted / duplicate elements, and concatenate lists\n",
    "s1pageNames, s2pageNames = s1pageNames[0:-15], s2pageNames[0:-15]\n",
    "pageNames = s1pageNames + s2pageNames\n",
    "\n",
    "print(pageNames)"
   ]
  },
  {
   "cell_type": "code",
   "execution_count": 58,
   "metadata": {},
   "outputs": [],
   "source": [
    "#Create workbook, then get data from Yahoo Finance\n",
    "import xlsxwriter\n",
    "workbook = xlsxwriter.Workbook('NASDAQAnalysis.xlsx')\n",
    "worksheet = workbook.add_worksheet()\n",
    "row = 2\n",
    "col = 1\n",
    "\n",
    "# Write company names in workbook\n",
    "for company in pageNames:\n",
    "    worksheet.write(row, col, company)\n",
    "    row=row+1\n",
    "    \n",
    "    \n",
    "months = ['January', 'February','March', 'April', 'May', 'June', 'July', 'August', 'September', 'October', 'November', 'December']\n",
    "years =  ['2015', '2016', '2017', '2018', '2019']\n",
    "\n",
    "row = 1\n",
    "col = col+1\n",
    "\n",
    "# Write (month year) in workbook for each month in each year in lists above\n",
    "for year in years:\n",
    "    for month in months:\n",
    "        worksheet.write(row, col, month+' '+year)\n",
    "        col=col+1\n",
    "workbook.close()"
   ]
  }
 ],
 "metadata": {
  "kernelspec": {
   "display_name": "Python 3",
   "language": "python",
   "name": "python3"
  },
  "language_info": {
   "codemirror_mode": {
    "name": "ipython",
    "version": 3
   },
   "file_extension": ".py",
   "mimetype": "text/x-python",
   "name": "python",
   "nbconvert_exporter": "python",
   "pygments_lexer": "ipython3",
   "version": "3.6.5"
  }
 },
 "nbformat": 4,
 "nbformat_minor": 2
}
